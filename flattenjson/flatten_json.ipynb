{
 "cells": [
  {
   "cell_type": "code",
   "execution_count": 20,
   "metadata": {},
   "outputs": [],
   "source": [
    "import pandas as pd\n",
    "import json\n",
    "from IPython.display import display"
   ]
  },
  {
   "cell_type": "code",
   "execution_count": 21,
   "metadata": {},
   "outputs": [
    {
     "name": "stdout",
     "output_type": "stream",
     "text": [
      "{\n",
      "\"Employees\" : [\n",
      "{\n",
      "\"userId\":\"rirani\",\n",
      "\"jobTitleName\":\"Developer\",\n",
      "\"firstName\":\"Romin\",\n",
      "\"lastName\":\"Irani\",\n",
      "\"preferredFullName\":\"Romin Irani\",\n",
      "\"employeeCode\":\"E1\",\n",
      "\"region\":\"CA\",\n",
      "\"phoneNumber\":\"408-1234567\",\n",
      "\"emailAddress\":\"romin.k.irani@gmail.com\"\n",
      "},\n",
      "{\n",
      "\"userId\":\"nirani\",\n",
      "\"jobTitleName\":\"Developer\",\n",
      "\"firstName\":\"Neil\",\n",
      "\"lastName\":\"Irani\",\n",
      "\"preferredFullName\":\"Neil Irani\",\n",
      "\"employeeCode\":\"E2\",\n",
      "\"region\":\"CA\",\n",
      "\"phoneNumber\":\"408-1111111\",\n",
      "\"emailAddress\":\"neilrirani@gmail.com\"\n",
      "},\n",
      "{\n",
      "\"userId\":\"thanks\",\n",
      "\"jobTitleName\":\"Program Directory\",\n",
      "\"firstName\":\"Tom\",\n",
      "\"lastName\":\"Hanks\",\n",
      "\"preferredFullName\":\"Tom Hanks\",\n",
      "\"employeeCode\":\"E3\",\n",
      "\"region\":\"CA\",\n",
      "\"phoneNumber\":\"408-2222222\",\n",
      "\"emailAddress\":\"tomhanks@gmail.com\"\n",
      "}\n",
      "]\n",
      "}\n"
     ]
    }
   ],
   "source": [
    "# Open the JSON file and load its contents\n",
    "with open('employees.json', 'r') as f:\n",
    "    data = f.read()\n",
    "print(data)"
   ]
  },
  {
   "cell_type": "code",
   "execution_count": 22,
   "metadata": {},
   "outputs": [
    {
     "data": {
      "text/html": [
       "<div>\n",
       "<style scoped>\n",
       "    .dataframe tbody tr th:only-of-type {\n",
       "        vertical-align: middle;\n",
       "    }\n",
       "\n",
       "    .dataframe tbody tr th {\n",
       "        vertical-align: top;\n",
       "    }\n",
       "\n",
       "    .dataframe thead th {\n",
       "        text-align: right;\n",
       "    }\n",
       "</style>\n",
       "<table border=\"1\" class=\"dataframe\">\n",
       "  <thead>\n",
       "    <tr style=\"text-align: right;\">\n",
       "      <th></th>\n",
       "      <th>userId</th>\n",
       "      <th>jobTitleName</th>\n",
       "      <th>firstName</th>\n",
       "      <th>lastName</th>\n",
       "      <th>preferredFullName</th>\n",
       "      <th>employeeCode</th>\n",
       "      <th>region</th>\n",
       "      <th>phoneNumber</th>\n",
       "      <th>emailAddress</th>\n",
       "    </tr>\n",
       "  </thead>\n",
       "  <tbody>\n",
       "    <tr>\n",
       "      <th>0</th>\n",
       "      <td>rirani</td>\n",
       "      <td>Developer</td>\n",
       "      <td>Romin</td>\n",
       "      <td>Irani</td>\n",
       "      <td>Romin Irani</td>\n",
       "      <td>E1</td>\n",
       "      <td>CA</td>\n",
       "      <td>408-1234567</td>\n",
       "      <td>romin.k.irani@gmail.com</td>\n",
       "    </tr>\n",
       "    <tr>\n",
       "      <th>1</th>\n",
       "      <td>nirani</td>\n",
       "      <td>Developer</td>\n",
       "      <td>Neil</td>\n",
       "      <td>Irani</td>\n",
       "      <td>Neil Irani</td>\n",
       "      <td>E2</td>\n",
       "      <td>CA</td>\n",
       "      <td>408-1111111</td>\n",
       "      <td>neilrirani@gmail.com</td>\n",
       "    </tr>\n",
       "    <tr>\n",
       "      <th>2</th>\n",
       "      <td>thanks</td>\n",
       "      <td>Program Directory</td>\n",
       "      <td>Tom</td>\n",
       "      <td>Hanks</td>\n",
       "      <td>Tom Hanks</td>\n",
       "      <td>E3</td>\n",
       "      <td>CA</td>\n",
       "      <td>408-2222222</td>\n",
       "      <td>tomhanks@gmail.com</td>\n",
       "    </tr>\n",
       "  </tbody>\n",
       "</table>\n",
       "</div>"
      ],
      "text/plain": [
       "   userId       jobTitleName firstName lastName preferredFullName   \n",
       "0  rirani          Developer     Romin    Irani       Romin Irani  \\\n",
       "1  nirani          Developer      Neil    Irani        Neil Irani   \n",
       "2  thanks  Program Directory       Tom    Hanks         Tom Hanks   \n",
       "\n",
       "  employeeCode region  phoneNumber             emailAddress  \n",
       "0           E1     CA  408-1234567  romin.k.irani@gmail.com  \n",
       "1           E2     CA  408-1111111     neilrirani@gmail.com  \n",
       "2           E3     CA  408-2222222       tomhanks@gmail.com  "
      ]
     },
     "metadata": {},
     "output_type": "display_data"
    }
   ],
   "source": [
    "# Parse the JSON data into a Python object\n",
    "data = json.loads(data)\n",
    "\n",
    "# Flatten the JSON data using json_normalize()\n",
    "df = pd.json_normalize(data, 'Employees')\n",
    "\n",
    "# Print the resulting DataFrame\n",
    "display(df)"
   ]
  }
 ],
 "metadata": {
  "kernelspec": {
   "display_name": "Python 3",
   "language": "python",
   "name": "python3"
  },
  "language_info": {
   "codemirror_mode": {
    "name": "ipython",
    "version": 3
   },
   "file_extension": ".py",
   "mimetype": "text/x-python",
   "name": "python",
   "nbconvert_exporter": "python",
   "pygments_lexer": "ipython3",
   "version": "3.10.6"
  },
  "orig_nbformat": 4
 },
 "nbformat": 4,
 "nbformat_minor": 2
}
